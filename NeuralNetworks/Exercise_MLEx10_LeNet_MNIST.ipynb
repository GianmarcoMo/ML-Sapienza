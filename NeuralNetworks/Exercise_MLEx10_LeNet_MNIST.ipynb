{
  "nbformat": 4,
  "nbformat_minor": 0,
  "metadata": {
    "colab": {
      "name": "Exercise_MLEx10.LeNet_MNIST",
      "provenance": [],
      "collapsed_sections": []
    },
    "kernelspec": {
      "name": "python3",
      "display_name": "Python 3"
    },
    "accelerator": "GPU"
  },
  "cells": [
    {
      "cell_type": "markdown",
      "metadata": {
        "id": "Z3GYzNWONtju"
      },
      "source": [
        "# Machine Learning Exercise 10\n",
        "\n",
        "# LeNet - MNIST \n",
        "\n"
      ]
    },
    {
      "cell_type": "markdown",
      "metadata": {
        "id": "eDEJU1RwoIlv"
      },
      "source": [
        "##Import \n",
        "\n",
        "Import libraries and print some versions.\n",
        "\n",
        "To use GPU, set `Edit / Notebook settings / Hardware accelerator` to **GPU**."
      ]
    },
    {
      "cell_type": "code",
      "metadata": {
        "id": "BSKuPnIXNoq2",
        "colab": {
          "base_uri": "https://localhost:8080/"
        },
        "outputId": "16bde77c-11d9-4306-a03b-4441c634c71a"
      },
      "source": [
        "%tensorflow_version 1.x\n",
        "\n",
        "import numpy as np\n",
        "import tensorflow as tf\n",
        "import keras\n",
        "\n",
        "print(\"Tensorflow version %s\" %tf.__version__)\n",
        "\n",
        "device_name = tf.test.gpu_device_name()\n",
        "if device_name != '/device:GPU:0':\n",
        "  raise SystemError('GPU device not found')\n",
        "print('Found GPU at: {}'.format(device_name))"
      ],
      "execution_count": 2,
      "outputs": [
        {
          "output_type": "stream",
          "name": "stdout",
          "text": [
            "TensorFlow 1.x selected.\n"
          ]
        },
        {
          "output_type": "stream",
          "name": "stderr",
          "text": [
            "Using TensorFlow backend.\n"
          ]
        },
        {
          "output_type": "stream",
          "name": "stdout",
          "text": [
            "Tensorflow version 1.15.2\n",
            "Found GPU at: /device:GPU:0\n"
          ]
        }
      ]
    },
    {
      "cell_type": "markdown",
      "metadata": {
        "id": "KaeLRpWIfO1m"
      },
      "source": [
        "## Load data\n",
        "\n",
        "Load training data from Keras library\n",
        "\n",
        "\n"
      ]
    },
    {
      "cell_type": "code",
      "metadata": {
        "id": "7kECuF5cgxxW",
        "colab": {
          "base_uri": "https://localhost:8080/"
        },
        "outputId": "4192e914-8fe4-4128-ba64-f449e635cc38"
      },
      "source": [
        "def load_data(dataset_name):\n",
        "    # load data\n",
        "    if dataset_name == \"mnist\":\n",
        "      (Xtrain,Ytrain), (Xtest, Ytest) = keras.datasets.mnist.load_data()\n",
        "    elif dataset_name == \"fmnist\":\n",
        "      (Xtrain,Ytrain), (Xtest, Ytest) = keras.datasets.fashion_mnist.load_data()\n",
        "    else:\n",
        "      print(\"Dataset not expected\")\n",
        "\n",
        "    # get information\n",
        "    ninput = Xtrain.shape[0]\n",
        "    imgsize = (Xtrain.shape[1], Xtrain.shape[2])\n",
        "    input_shape = (Xtrain.shape[1], Xtrain.shape[2], 1)\n",
        "    ntest = Xtest.shape[0]\n",
        "    num_classes = max(Ytrain) + 1\n",
        "    print(\"Training input %s\" %str(Xtrain.shape))\n",
        "    print(\"Training output %s\" %str(Ytrain.shape))\n",
        "    print(\"Test input %s\" %str(Xtest.shape))\n",
        "    print(\"Test output %s\" %str(Ytest.shape))\n",
        "    print(\"Input shape: %s\" %str(input_shape))\n",
        "    print(\"Number of classes: %d\" %num_classes)\n",
        "\n",
        "    # normalize input to [0,1]\n",
        "    Xtrain = Xtrain / 255.0\n",
        "    Xtest = Xtest / 255.0\n",
        "    # reshape input in 4D array\n",
        "    Xtrain = Xtrain.reshape(ninput,imgsize[0],imgsize[1],1)\n",
        "    Xtest = Xtest.reshape(ntest,imgsize[0],imgsize[1],1)\n",
        "    \n",
        "    # Transform output to one-out-of-n encoding\n",
        "    Ytrain = keras.utils.to_categorical(Ytrain, num_classes)\n",
        "    Ytest = keras.utils.to_categorical(Ytest, num_classes)\n",
        "    \n",
        "    return [Xtrain,Ytrain,Xtest,Ytest,input_shape,num_classes]\n",
        "\n",
        "\n",
        "dataset_name = \"mnist\" # mnist or fmnist\n",
        "[Xtrain,Ytrain,Xtest,Ytest,input_shape,num_classes] = load_data(dataset_name)"
      ],
      "execution_count": 3,
      "outputs": [
        {
          "output_type": "stream",
          "name": "stdout",
          "text": [
            "Downloading data from https://s3.amazonaws.com/img-datasets/mnist.npz\n",
            "11493376/11490434 [==============================] - 0s 0us/step\n",
            "Training input (60000, 28, 28)\n",
            "Training output (60000,)\n",
            "Test input (10000, 28, 28)\n",
            "Test output (10000,)\n",
            "Input shape: (28, 28, 1)\n",
            "Number of classes: 10\n"
          ]
        }
      ]
    },
    {
      "cell_type": "markdown",
      "metadata": {
        "id": "R6DMvR8TzJiK"
      },
      "source": [
        "## Show random image\n",
        "\n"
      ]
    },
    {
      "cell_type": "code",
      "metadata": {
        "id": "P0N3cUSazRcJ",
        "colab": {
          "base_uri": "https://localhost:8080/",
          "height": 282
        },
        "outputId": "856e9ea6-d831-40b1-8d13-12d5804ee83e"
      },
      "source": [
        "import matplotlib.pyplot as plt\n",
        "import random\n",
        "\n",
        "i = random.randrange(0,Xtrain.shape[0])\n",
        "image = Xtrain[i]\n",
        "image = np.array(image, dtype='float')\n",
        "pixels = image.reshape((28, 28))\n",
        "\n",
        "label = Ytrain[i].argmax()  # categorical from one-hot-encoding\n",
        "print(label)\n",
        "\n",
        "plt.imshow(pixels, cmap='gray')\n",
        "plt.show()\n"
      ],
      "execution_count": 4,
      "outputs": [
        {
          "output_type": "stream",
          "name": "stdout",
          "text": [
            "2\n"
          ]
        },
        {
          "output_type": "display_data",
          "data": {
            "image/png": "[encoded data removed]",
            "text/plain": [
              "<Figure size 432x288 with 1 Axes>"
            ]
          },
          "metadata": {
            "needs_background": "light"
          }
        }
      ]
    },
    {
      "cell_type": "markdown",
      "metadata": {
        "id": "q1EwWO9m3bGg"
      },
      "source": [
        "##LeNet model\n"
      ]
    },
    {
      "cell_type": "code",
      "metadata": {
        "id": "1DTCwfVg3jRX",
        "colab": {
          "base_uri": "https://localhost:8080/"
        },
        "outputId": "e137c657-7b01-461b-8233-feb800d18ea6"
      },
      "source": [
        "from keras.models import Sequential\n",
        "from keras.layers import Dense, Activation, Dropout, Flatten,\\\n",
        "                         Conv2D, MaxPooling2D, AveragePooling2D\n",
        "from keras.layers.normalization import BatchNormalization\n",
        "from keras import regularizers\n",
        "from keras import optimizers\n",
        "\n",
        "def LeNet(input_shape, num_classes):\n",
        "    \n",
        "    print('\\nLeNet model')\n",
        "    model = Sequential()\n",
        "    \n",
        "    print('\\tC1: Convolutional 6 kernels 5x5')\n",
        "    model.add(Conv2D(6, kernel_size=(5, 5), strides=(1, 1), activation='tanh', input_shape=input_shape, padding='same'))\n",
        "    print('\\tS2: Average Pooling 2x2 stride 2x2')\n",
        "    model.add(AveragePooling2D(pool_size=(2, 2), strides=(2, 2), padding='valid'))\n",
        "    print('\\tC3: Convolutional 16 kernels 5x5')\n",
        "    model.add(Conv2D(16, kernel_size=(5, 5), strides=(1, 1), activation='tanh', padding='valid'))\n",
        "    print('\\tS4: Average Pooling 2x2 stride 2x2')\n",
        "    model.add(AveragePooling2D(pool_size=(2, 2), strides=(2, 2), padding='valid'))\n",
        "    print('\\tC5: Convolutional 120 kernels 5x5')\n",
        "    model.add(Conv2D(120, kernel_size=(5, 5), strides=(1, 1), activation='tanh', padding='valid'))\n",
        "    model.add(Flatten())\n",
        "    print('\\tF6: Fully connected, 84 units')\n",
        "    model.add(Dense(84, activation='tanh'))\n",
        "    print('\\tF7: Fully connected, 10 units')\n",
        "    model.add(Dense(num_classes, activation='softmax'))\n",
        "\n",
        "    optimizer = 'adam' #alternative 'SGD'\n",
        "    model.compile(loss=keras.losses.categorical_crossentropy, optimizer=optimizer, metrics=['accuracy'])\n",
        "    \n",
        "    return model\n",
        " \n",
        "# create the model\n",
        "model = LeNet(input_shape,num_classes)\n",
        "model.summary()"
      ],
      "execution_count": 5,
      "outputs": [
        {
          "output_type": "stream",
          "name": "stdout",
          "text": [
            "\n",
            "LeNet model\n",
            "\tC1: Convolutional 6 kernels 5x5\n",
            "WARNING:tensorflow:From /tensorflow-1.15.2/python3.7/tensorflow_core/python/ops/resource_variable_ops.py:1630: calling BaseResourceVariable.__init__ (from tensorflow.python.ops.resource_variable_ops) with constraint is deprecated and will be removed in a future version.\n",
            "Instructions for updating:\n",
            "If using Keras pass *_constraint arguments to layers.\n",
            "\tS2: Average Pooling 2x2 stride 2x2\n",
            "WARNING:tensorflow:From /tensorflow-1.15.2/python3.7/keras/backend/tensorflow_backend.py:4074: The name tf.nn.avg_pool is deprecated. Please use tf.nn.avg_pool2d instead.\n",
            "\n",
            "\tC3: Convolutional 16 kernels 5x5\n",
            "\tS4: Average Pooling 2x2 stride 2x2\n",
            "\tC5: Convolutional 120 kernels 5x5\n",
            "\tF6: Fully connected, 84 units\n",
            "\tF7: Fully connected, 10 units\n",
            "Model: \"sequential_1\"\n",
            "_________________________________________________________________\n",
            "Layer (type)                 Output Shape              Param #   \n",
            "=================================================================\n",
            "conv2d_1 (Conv2D)            (None, 28, 28, 6)         156       \n",
            "_________________________________________________________________\n",
            "average_pooling2d_1 (Average (None, 14, 14, 6)         0         \n",
            "_________________________________________________________________\n",
            "conv2d_2 (Conv2D)            (None, 10, 10, 16)        2416      \n",
            "_________________________________________________________________\n",
            "average_pooling2d_2 (Average (None, 5, 5, 16)          0         \n",
            "_________________________________________________________________\n",
            "conv2d_3 (Conv2D)            (None, 1, 1, 120)         48120     \n",
            "_________________________________________________________________\n",
            "flatten_1 (Flatten)          (None, 120)               0         \n",
            "_________________________________________________________________\n",
            "dense_1 (Dense)              (None, 84)                10164     \n",
            "_________________________________________________________________\n",
            "dense_2 (Dense)              (None, 10)                850       \n",
            "=================================================================\n",
            "Total params: 61,706\n",
            "Trainable params: 61,706\n",
            "Non-trainable params: 0\n",
            "_________________________________________________________________\n"
          ]
        }
      ]
    },
    {
      "cell_type": "markdown",
      "metadata": {
        "id": "egL15iQztTDH"
      },
      "source": [
        "## Train"
      ]
    },
    {
      "cell_type": "code",
      "metadata": {
        "id": "EKOdDvgf5YlZ",
        "colab": {
          "base_uri": "https://localhost:8080/"
        },
        "outputId": "01fcd2f8-eed5-42b9-e304-b8c82d2adbf1"
      },
      "source": [
        "epochs = 10\n",
        "history = model.fit(Xtrain, Ytrain, batch_size=32, epochs=epochs, validation_data = (Xtest,Ytest))"
      ],
      "execution_count": 12,
      "outputs": [
        {
          "output_type": "stream",
          "name": "stdout",
          "text": [
            "Train on 60000 samples, validate on 10000 samples\n",
            "Epoch 1/10\n",
            "60000/60000 [==============================] - 14s 236us/step - loss: 0.0148 - accuracy: 0.9951 - val_loss: 0.0670 - val_accuracy: 0.9799\n",
            "Epoch 2/10\n",
            "60000/60000 [==============================] - 14s 237us/step - loss: 0.0127 - accuracy: 0.9958 - val_loss: 0.0565 - val_accuracy: 0.9839\n",
            "Epoch 3/10\n",
            "60000/60000 [==============================] - 14s 236us/step - loss: 0.0140 - accuracy: 0.9953 - val_loss: 0.0501 - val_accuracy: 0.9859\n",
            "Epoch 4/10\n",
            "60000/60000 [==============================] - 14s 238us/step - loss: 0.0110 - accuracy: 0.9963 - val_loss: 0.0508 - val_accuracy: 0.9859\n",
            "Epoch 5/10\n",
            "60000/60000 [==============================] - 14s 235us/step - loss: 0.0100 - accuracy: 0.9966 - val_loss: 0.0467 - val_accuracy: 0.9869\n",
            "Epoch 6/10\n",
            "60000/60000 [==============================] - 14s 237us/step - loss: 0.0116 - accuracy: 0.9959 - val_loss: 0.0522 - val_accuracy: 0.9864\n",
            "Epoch 7/10\n",
            "60000/60000 [==============================] - 14s 238us/step - loss: 0.0099 - accuracy: 0.9967 - val_loss: 0.0508 - val_accuracy: 0.9856\n",
            "Epoch 8/10\n",
            "60000/60000 [==============================] - 14s 239us/step - loss: 0.0090 - accuracy: 0.9971 - val_loss: 0.0547 - val_accuracy: 0.9861\n",
            "Epoch 9/10\n",
            "60000/60000 [==============================] - 14s 238us/step - loss: 0.0087 - accuracy: 0.9972 - val_loss: 0.0457 - val_accuracy: 0.9881\n",
            "Epoch 10/10\n",
            "60000/60000 [==============================] - 14s 239us/step - loss: 0.0071 - accuracy: 0.9977 - val_loss: 0.0486 - val_accuracy: 0.9874\n"
          ]
        }
      ]
    },
    {
      "cell_type": "markdown",
      "metadata": {
        "id": "YPtbelKYHy4K"
      },
      "source": [
        "##Evaluate the model"
      ]
    },
    {
      "cell_type": "markdown",
      "metadata": {
        "id": "fkx4x2M3vFpk"
      },
      "source": [
        "## Print scores\n",
        "\n",
        "Overall accuracy, precision, recall and F-score "
      ]
    },
    {
      "cell_type": "code",
      "metadata": {
        "id": "aLfiWAMGHxkH",
        "colab": {
          "base_uri": "https://localhost:8080/"
        },
        "outputId": "2a78e9e9-80ac-46d1-c91e-3223d0c4c710"
      },
      "source": [
        "import sklearn.metrics \n",
        "from sklearn.metrics import classification_report, confusion_matrix\n",
        "\n",
        "# accuracy\n",
        "score = model.evaluate(Xtest, Ytest)\n",
        "print(\"Test loss: %f\" %score[0])\n",
        "print(\"Test accuracy: %f\" %score[1])\n",
        "\n",
        "preds = model.predict(Xtest,verbose=1)\n",
        "Ypred = np.argmax(preds, axis=1)\n",
        "\n",
        "Ypred = keras.utils.to_categorical(Ypred, num_classes)\n",
        "\n",
        "print('%s' %str(Ypred.shape))\n",
        "print('%s' %str(Ytest.shape))\n",
        "\n",
        "print(classification_report(Ytest, Ypred, digits=3))\n",
        "\n",
        "\n",
        "  "
      ],
      "execution_count": 7,
      "outputs": [
        {
          "output_type": "stream",
          "name": "stdout",
          "text": [
            "10000/10000 [==============================] - 1s 107us/step\n",
            "Test loss: 0.052346\n",
            "Test accuracy: 0.983800\n",
            "10000/10000 [==============================] - 1s 73us/step\n",
            "(10000, 10)\n",
            "(10000, 10)\n",
            "              precision    recall  f1-score   support\n",
            "\n",
            "           0      0.980     0.994     0.987       980\n",
            "           1      0.996     0.986     0.991      1135\n",
            "           2      0.982     0.987     0.985      1032\n",
            "           3      0.982     0.988     0.985      1010\n",
            "           4      0.968     0.997     0.982       982\n",
            "           5      0.983     0.985     0.984       892\n",
            "           6      0.994     0.961     0.977       958\n",
            "           7      0.983     0.986     0.984      1028\n",
            "           8      0.979     0.983     0.981       974\n",
            "           9      0.991     0.969     0.980      1009\n",
            "\n",
            "   micro avg      0.984     0.984     0.984     10000\n",
            "   macro avg      0.984     0.984     0.984     10000\n",
            "weighted avg      0.984     0.984     0.984     10000\n",
            " samples avg      0.984     0.984     0.984     10000\n",
            "\n"
          ]
        }
      ]
    },
    {
      "cell_type": "markdown",
      "metadata": {
        "id": "k6bNy-J9u-l6"
      },
      "source": [
        "##Plot results"
      ]
    },
    {
      "cell_type": "code",
      "metadata": {
        "id": "nGcvKLXpvjDu",
        "colab": {
          "base_uri": "https://localhost:8080/",
          "height": 573
        },
        "outputId": "4c4a5e21-4255-4aa7-ca48-7b9cdf45e6a8"
      },
      "source": [
        "import matplotlib.pyplot as plt\n",
        "\n",
        "# summarize history for accuracy\n",
        "plt.plot(history.history['accuracy'])\n",
        "plt.plot(history.history['val_accuracy'])\n",
        "plt.title('model accuracy')\n",
        "plt.ylabel('accuracy')\n",
        "plt.xlabel('epoch')\n",
        "plt.ylim(0.96, 1.0)\n",
        "plt.legend(['train', 'test'], loc='upper left')\n",
        "plt.show()\n",
        "# summarize history for loss\n",
        "plt.plot(history.history['loss'])\n",
        "plt.plot(history.history['val_loss'])\n",
        "plt.title('model loss')\n",
        "plt.ylabel('loss')\n",
        "plt.xlabel('epoch')\n",
        "plt.ylim(0.0, 0.1)\n",
        "plt.legend(['train', 'test'], loc='upper left')\n",
        "plt.show()"
      ],
      "execution_count": 8,
      "outputs": [
        {
          "output_type": "display_data",
          "data": {
            "image/png": "[encoded data removed]",
            "text/plain": [
              "<Figure size 432x288 with 1 Axes>"
            ]
          },
          "metadata": {
            "needs_background": "light"
          }
        },
        {
          "output_type": "display_data",
          "data": {
            "image/png": "[encoded data removed]",
            "text/plain": [
              "<Figure size 432x288 with 1 Axes>"
            ]
          },
          "metadata": {
            "needs_background": "light"
          }
        }
      ]
    },
    {
      "cell_type": "markdown",
      "metadata": {
        "id": "Hd9Bkd6KtWrt"
      },
      "source": [
        "# Home Exercises\n",
        "\n",
        "**Question 1** \n",
        "\n",
        "Compare the model defined above with a model with the same structure but with `ReLU` activation functions in all the layers.\n"
      ]
    },
    {
      "cell_type": "code",
      "metadata": {
        "colab": {
          "base_uri": "https://localhost:8080/"
        },
        "id": "X6sRix7cu_Bb",
        "outputId": "29ef7054-f8db-4dce-b7ad-80628eae2667"
      },
      "source": [
        "def LeNet_relu(input_shape, num_classes):\n",
        "    \n",
        "    print('\\nLeNet model')\n",
        "    model_relu = Sequential()\n",
        "    \n",
        "    print('\\tC1: Convolutional 6 kernels 5x5')\n",
        "    model_relu.add(Conv2D(6, kernel_size=(5, 5), strides=(1, 1), activation='relu', input_shape=input_shape, padding='same'))\n",
        "    print('\\tS2: Average Pooling 2x2 stride 2x2')\n",
        "    model_relu.add(AveragePooling2D(pool_size=(2, 2), strides=(2, 2), padding='valid'))\n",
        "    print('\\tC3: Convolutional 16 kernels 5x5')\n",
        "    model_relu.add(Conv2D(16, kernel_size=(5, 5), strides=(1, 1), activation='relu', padding='valid'))\n",
        "    print('\\tS4: Average Pooling 2x2 stride 2x2')\n",
        "    model_relu.add(AveragePooling2D(pool_size=(2, 2), strides=(2, 2), padding='valid'))\n",
        "    print('\\tC5: Convolutional 120 kernels 5x5')\n",
        "    model_relu.add(Conv2D(120, kernel_size=(5, 5), strides=(1, 1), activation='relu', padding='valid'))\n",
        "    model_relu.add(Flatten())\n",
        "    print('\\tF6: Fully connected, 84 units')\n",
        "    model_relu.add(Dense(84, activation='relu'))\n",
        "    print('\\tF7: Fully connected, 10 units')\n",
        "    model_relu.add(Dense(num_classes, activation='softmax'))\n",
        "\n",
        "    optimizer = 'adam' #alternative 'SGD'\n",
        "    model_relu.compile(loss=keras.losses.categorical_crossentropy, optimizer=optimizer, metrics=['accuracy'])\n",
        "    \n",
        "    return model_relu\n",
        " \n",
        "# create the model\n",
        "model_relu = LeNet(input_shape,num_classes)\n",
        "model_relu.summary()"
      ],
      "execution_count": 9,
      "outputs": [
        {
          "output_type": "stream",
          "name": "stdout",
          "text": [
            "\n",
            "LeNet model\n",
            "\tC1: Convolutional 6 kernels 5x5\n",
            "\tS2: Average Pooling 2x2 stride 2x2\n",
            "\tC3: Convolutional 16 kernels 5x5\n",
            "\tS4: Average Pooling 2x2 stride 2x2\n",
            "\tC5: Convolutional 120 kernels 5x5\n",
            "\tF6: Fully connected, 84 units\n",
            "\tF7: Fully connected, 10 units\n",
            "Model: \"sequential_2\"\n",
            "_________________________________________________________________\n",
            "Layer (type)                 Output Shape              Param #   \n",
            "=================================================================\n",
            "conv2d_4 (Conv2D)            (None, 28, 28, 6)         156       \n",
            "_________________________________________________________________\n",
            "average_pooling2d_3 (Average (None, 14, 14, 6)         0         \n",
            "_________________________________________________________________\n",
            "conv2d_5 (Conv2D)            (None, 10, 10, 16)        2416      \n",
            "_________________________________________________________________\n",
            "average_pooling2d_4 (Average (None, 5, 5, 16)          0         \n",
            "_________________________________________________________________\n",
            "conv2d_6 (Conv2D)            (None, 1, 1, 120)         48120     \n",
            "_________________________________________________________________\n",
            "flatten_2 (Flatten)          (None, 120)               0         \n",
            "_________________________________________________________________\n",
            "dense_3 (Dense)              (None, 84)                10164     \n",
            "_________________________________________________________________\n",
            "dense_4 (Dense)              (None, 10)                850       \n",
            "=================================================================\n",
            "Total params: 61,706\n",
            "Trainable params: 61,706\n",
            "Non-trainable params: 0\n",
            "_________________________________________________________________\n"
          ]
        }
      ]
    },
    {
      "cell_type": "code",
      "metadata": {
        "colab": {
          "base_uri": "https://localhost:8080/"
        },
        "id": "D4I1Ou7iv9Yz",
        "outputId": "fadd7ee9-5114-4ddf-d73b-7387e03c2417"
      },
      "source": [
        "epochs = 10\n",
        "history_relu = model_relu.fit(Xtrain, Ytrain, batch_size=32, epochs=epochs, validation_data = (Xtest,Ytest))"
      ],
      "execution_count": 13,
      "outputs": [
        {
          "output_type": "stream",
          "name": "stdout",
          "text": [
            "Train on 60000 samples, validate on 10000 samples\n",
            "Epoch 1/10\n",
            "60000/60000 [==============================] - 15s 244us/step - loss: 0.0142 - accuracy: 0.9953 - val_loss: 0.0495 - val_accuracy: 0.9856\n",
            "Epoch 2/10\n",
            "60000/60000 [==============================] - 15s 242us/step - loss: 0.0133 - accuracy: 0.9955 - val_loss: 0.0485 - val_accuracy: 0.9873\n",
            "Epoch 3/10\n",
            "60000/60000 [==============================] - 14s 240us/step - loss: 0.0136 - accuracy: 0.9952 - val_loss: 0.0498 - val_accuracy: 0.9874\n",
            "Epoch 4/10\n",
            "60000/60000 [==============================] - 14s 241us/step - loss: 0.0112 - accuracy: 0.9965 - val_loss: 0.0574 - val_accuracy: 0.9867\n",
            "Epoch 5/10\n",
            "60000/60000 [==============================] - 14s 241us/step - loss: 0.0119 - accuracy: 0.9961 - val_loss: 0.0510 - val_accuracy: 0.9854\n",
            "Epoch 6/10\n",
            "60000/60000 [==============================] - 14s 239us/step - loss: 0.0097 - accuracy: 0.9967 - val_loss: 0.0489 - val_accuracy: 0.9874\n",
            "Epoch 7/10\n",
            "60000/60000 [==============================] - 14s 235us/step - loss: 0.0085 - accuracy: 0.9972 - val_loss: 0.0548 - val_accuracy: 0.9871\n",
            "Epoch 8/10\n",
            "60000/60000 [==============================] - 14s 236us/step - loss: 0.0089 - accuracy: 0.9970 - val_loss: 0.0653 - val_accuracy: 0.9847\n",
            "Epoch 9/10\n",
            "60000/60000 [==============================] - 14s 236us/step - loss: 0.0085 - accuracy: 0.9973 - val_loss: 0.0622 - val_accuracy: 0.9851\n",
            "Epoch 10/10\n",
            "60000/60000 [==============================] - 14s 238us/step - loss: 0.0096 - accuracy: 0.9965 - val_loss: 0.0532 - val_accuracy: 0.9880\n"
          ]
        }
      ]
    },
    {
      "cell_type": "code",
      "metadata": {
        "colab": {
          "base_uri": "https://localhost:8080/"
        },
        "id": "9WOMYJx5wEHv",
        "outputId": "ec4b6586-555c-471c-f4d3-a104fbec492c"
      },
      "source": [
        "import sklearn.metrics \n",
        "from sklearn.metrics import classification_report, confusion_matrix\n",
        "\n",
        "# accuracy\n",
        "score_relu = model_relu.evaluate(Xtest, Ytest)\n",
        "print(\"Test loss: %f\" %score_relu[0])\n",
        "print(\"Test accuracy: %f\" %score_relu[1])\n",
        "\n",
        "preds_relu = model_relu.predict(Xtest,verbose=1)\n",
        "Ypred_relu = np.argmax(preds_relu, axis=1)\n",
        "\n",
        "Ypred_relu = keras.utils.to_categorical(Ypred_relu, num_classes)\n",
        "\n",
        "print('%s' %str(Ypred_relu.shape))\n",
        "print('%s' %str(Ytest.shape))\n",
        "\n",
        "print(\"Activation function: ReLu\")\n",
        "print(classification_report(Ytest, Ypred_relu, digits=3))\n",
        "\n",
        "print(\"\\n Without ReLU\")\n",
        "print(classification_report(Ytest, Ypred, digits=3))"
      ],
      "execution_count": 11,
      "outputs": [
        {
          "output_type": "stream",
          "name": "stdout",
          "text": [
            "10000/10000 [==============================] - 1s 99us/step\n",
            "Test loss: 0.053573\n",
            "Test accuracy: 0.984800\n",
            "10000/10000 [==============================] - 1s 71us/step\n",
            "(10000, 10)\n",
            "(10000, 10)\n",
            "Activation function: ReLu\n",
            "              precision    recall  f1-score   support\n",
            "\n",
            "           0      0.987     0.992     0.989       980\n",
            "           1      0.989     0.995     0.992      1135\n",
            "           2      0.982     0.990     0.986      1032\n",
            "           3      0.987     0.990     0.989      1010\n",
            "           4      0.991     0.987     0.989       982\n",
            "           5      0.995     0.963     0.979       892\n",
            "           6      0.977     0.992     0.984       958\n",
            "           7      0.990     0.968     0.979      1028\n",
            "           8      0.974     0.988     0.981       974\n",
            "           9      0.976     0.981     0.979      1009\n",
            "\n",
            "   micro avg      0.985     0.985     0.985     10000\n",
            "   macro avg      0.985     0.985     0.985     10000\n",
            "weighted avg      0.985     0.985     0.985     10000\n",
            " samples avg      0.985     0.985     0.985     10000\n",
            "\n",
            "\n",
            " Without ReLU\n",
            "              precision    recall  f1-score   support\n",
            "\n",
            "           0      0.980     0.994     0.987       980\n",
            "           1      0.996     0.986     0.991      1135\n",
            "           2      0.982     0.987     0.985      1032\n",
            "           3      0.982     0.988     0.985      1010\n",
            "           4      0.968     0.997     0.982       982\n",
            "           5      0.983     0.985     0.984       892\n",
            "           6      0.994     0.961     0.977       958\n",
            "           7      0.983     0.986     0.984      1028\n",
            "           8      0.979     0.983     0.981       974\n",
            "           9      0.991     0.969     0.980      1009\n",
            "\n",
            "   micro avg      0.984     0.984     0.984     10000\n",
            "   macro avg      0.984     0.984     0.984     10000\n",
            "weighted avg      0.984     0.984     0.984     10000\n",
            " samples avg      0.984     0.984     0.984     10000\n",
            "\n"
          ]
        }
      ]
    },
    {
      "cell_type": "code",
      "metadata": {
        "colab": {
          "base_uri": "https://localhost:8080/",
          "height": 573
        },
        "id": "wBRiLZOVw1MK",
        "outputId": "2df73fd7-2de0-4136-f10d-2ca624a87c6b"
      },
      "source": [
        "import matplotlib.pyplot as plt\n",
        "\n",
        "# summarize history for accuracy with relu\n",
        "plt.subplot(1,2,1)\n",
        "plt.plot(history_relu.history['accuracy'])\n",
        "plt.plot(history_relu.history['val_accuracy'])\n",
        "plt.title('model accuracy ReLU')\n",
        "plt.ylabel('accuracy')\n",
        "plt.xlabel('epoch')\n",
        "plt.ylim(0.96, 1.0)\n",
        "plt.legend(['train', 'test'], loc='upper left')\n",
        "\n",
        "\n",
        "# summarize history for accuracy\n",
        "plt.subplot(1,2,2)\n",
        "plt.plot(history.history['accuracy'])\n",
        "plt.plot(history.history['val_accuracy'])\n",
        "plt.title('model accuracy NO ReLU')\n",
        "plt.ylabel('accuracy')\n",
        "plt.xlabel('epoch')\n",
        "plt.ylim(0.96, 1.0)\n",
        "plt.legend(['train', 'test'], loc='upper left')\n",
        "plt.show()\n",
        "\n",
        "# summarize history for loss with relu\n",
        "plt.subplot(1,2,1)\n",
        "plt.plot(history_relu.history['loss'])\n",
        "plt.plot(history_relu.history['val_loss'])\n",
        "plt.title('model loss ReLU')\n",
        "plt.ylabel('loss')\n",
        "plt.xlabel('epoch')\n",
        "plt.ylim(0.0, 0.1)\n",
        "plt.legend(['train', 'test'], loc='upper left')\n",
        "\n",
        "# summarize history for loss without relu\n",
        "plt.subplot(1,2,2)\n",
        "plt.plot(history.history['loss'])\n",
        "plt.plot(history.history['val_loss'])\n",
        "plt.title('model loss NO ReLU')\n",
        "plt.ylabel('loss')\n",
        "plt.xlabel('epoch')\n",
        "plt.ylim(0.0, 0.1)\n",
        "plt.legend(['train', 'test'], loc='upper left')\n",
        "plt.show()"
      ],
      "execution_count": 39,
      "outputs": [
        {
          "output_type": "display_data",
          "data": {
            "image/png": "[encoded data removed]",
            "text/plain": [
              "<Figure size 432x288 with 2 Axes>"
            ]
          },
          "metadata": {
            "needs_background": "light"
          }
        },
        {
          "output_type": "display_data",
          "data": {
            "image/png": "[encoded data removed]",
            "text/plain": [
              "<Figure size 432x288 with 2 Axes>"
            ]
          },
          "metadata": {
            "needs_background": "light"
          }
        }
      ]
    }
  ]
}
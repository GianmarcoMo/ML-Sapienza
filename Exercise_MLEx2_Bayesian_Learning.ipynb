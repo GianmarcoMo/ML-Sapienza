{
  "nbformat": 4,
  "nbformat_minor": 0,
  "metadata": {
    "colab": {
      "name": "Exercise_MLEx2.Bayesian_Learning.ipynb",
      "provenance": [],
      "collapsed_sections": []
    },
    "kernelspec": {
      "name": "python3",
      "display_name": "Python 3"
    }
  },
  "cells": [
    {
      "cell_type": "markdown",
      "metadata": {
        "id": "J2E9dsLhnNE3"
      },
      "source": [
        "# Machine Learning - Exercise 2 \n",
        "# Bayesian Learning\n"
      ]
    },
    {
      "cell_type": "code",
      "metadata": {
        "id": "HQOhol3QnEFY"
      },
      "source": [
        "import numpy as np"
      ],
      "execution_count": null,
      "outputs": []
    },
    {
      "cell_type": "markdown",
      "metadata": {
        "id": "9k1Ue3Qvnld7"
      },
      "source": [
        "## Prior knowledge"
      ]
    },
    {
      "cell_type": "code",
      "metadata": {
        "id": "7oRapmCtnpbS",
        "colab": {
          "base_uri": "https://localhost:8080/"
        },
        "outputId": "6ce74546-6d24-4a18-e22c-27d6f7ad9671"
      },
      "source": [
        "PH = np.array([0.1, 0.2, 0.4, 0.2, 0.1])\n",
        "\n",
        "PdH = {}\n",
        "# bag of lime candy\n",
        "PdH['l'] = np.array([0.0, 0.25, 0.5, 0.75, 1.0])\n",
        "# bag of cherry candy\n",
        "PdH['c'] = 1 - PdH['l']\n",
        "\n",
        "print('P(H) = %s' %(str(PH)))\n",
        "print('P(l|H) = %s' %(str(PdH['l'])))\n",
        "print('P(c|H) = %s' %(str(PdH['c'])))\n",
        "\n",
        "cP = PdH['l'] * PH\n",
        "Pl = np.sum(cP)\n",
        "print('P(l) = sum %s = %.3f' %(str(cP),Pl))"
      ],
      "execution_count": null,
      "outputs": [
        {
          "output_type": "stream",
          "name": "stdout",
          "text": [
            "P(H) = [0.1 0.2 0.4 0.2 0.1]\n",
            "P(l|H) = [0.   0.25 0.5  0.75 1.  ]\n",
            "P(c|H) = [1.   0.75 0.5  0.25 0.  ]\n",
            "P(l) = sum [0.   0.05 0.2  0.15 0.1 ] = 0.500\n"
          ]
        }
      ]
    },
    {
      "cell_type": "markdown",
      "metadata": {
        "id": "pSl9YJgZniT6"
      },
      "source": [
        "## Dataset"
      ]
    },
    {
      "cell_type": "code",
      "metadata": {
        "id": "1DxGwfxxnaq9"
      },
      "source": [
        "D = ['l','l','l','l','l']"
      ],
      "execution_count": null,
      "outputs": []
    },
    {
      "cell_type": "markdown",
      "metadata": {
        "id": "JyMvUpo9nfH7"
      },
      "source": [
        "## Bayesian Learning"
      ]
    },
    {
      "cell_type": "code",
      "metadata": {
        "id": "hdLoFtqYnbo_",
        "colab": {
          "base_uri": "https://localhost:8080/"
        },
        "outputId": "127c21aa-2f24-4f5b-8636-9a66f98f0b30"
      },
      "source": [
        "P = PH\n",
        "db = ''\n",
        "np.set_printoptions(formatter={'float': '{: 0.3f}'.format})\n",
        "for d in D:\n",
        "    P = P * PdH[d]\n",
        "    P = P / np.sum(P)\n",
        "    db = db+d\n",
        "    print('P(H|%s)  \\t= %s' %(db,str(P)))"
      ],
      "execution_count": null,
      "outputs": [
        {
          "output_type": "stream",
          "name": "stdout",
          "text": [
            "P(H|l)  \t= [ 0.000  0.100  0.400  0.300  0.200]\n",
            "P(H|ll)  \t= [ 0.000  0.038  0.308  0.346  0.308]\n",
            "P(H|lll)  \t= [ 0.000  0.013  0.211  0.355  0.421]\n",
            "P(H|llll)  \t= [ 0.000  0.004  0.132  0.335  0.529]\n",
            "P(H|lllll)  \t= [ 0.000  0.001  0.078  0.296  0.624]\n"
          ]
        }
      ]
    },
    {
      "cell_type": "markdown",
      "metadata": {
        "id": "MlBCGzO_o7pj"
      },
      "source": [
        "## MAP hypothesis"
      ]
    },
    {
      "cell_type": "code",
      "metadata": {
        "id": "JWXGLTDKpAuH",
        "colab": {
          "base_uri": "https://localhost:8080/"
        },
        "outputId": "7bee7a99-2111-4f38-ce6b-c59aa7ba271a"
      },
      "source": [
        "i = np.argmax(P)\n",
        "print('MAP hypothesis: h%d' %(i+1))"
      ],
      "execution_count": null,
      "outputs": [
        {
          "output_type": "stream",
          "name": "stdout",
          "text": [
            "MAP hypothesis: h5\n"
          ]
        }
      ]
    },
    {
      "cell_type": "markdown",
      "metadata": {
        "id": "i9ydVfqFrUq-"
      },
      "source": [
        "## Prediction\n",
        "\n",
        "Probability that next candy is lime\n",
        "\n",
        "Using MAP hypothesis"
      ]
    },
    {
      "cell_type": "code",
      "metadata": {
        "id": "25gsB_O1pRe6",
        "colab": {
          "base_uri": "https://localhost:8080/"
        },
        "outputId": "b82b29c5-99b3-4c11-b129-46c445431340"
      },
      "source": [
        "PlhMAP = PdH['l'][i]\n",
        "print('P(l|h_MAP) = %.3f' %(PlhMAP))"
      ],
      "execution_count": null,
      "outputs": [
        {
          "output_type": "stream",
          "name": "stdout",
          "text": [
            "P(l|h_MAP) = 1.000\n"
          ]
        }
      ]
    },
    {
      "cell_type": "markdown",
      "metadata": {
        "id": "mvvZjlm4rmwW"
      },
      "source": [
        "Using all hypotheses"
      ]
    },
    {
      "cell_type": "code",
      "metadata": {
        "id": "s3T5zb35pWjq",
        "colab": {
          "base_uri": "https://localhost:8080/"
        },
        "outputId": "736b4135-7909-4cc7-84a1-2299a22b3435"
      },
      "source": [
        "cP = PdH['l'] * P\n",
        "PlD = np.sum(cP)\n",
        "print('P(l|D) = sum %s = %.3f' %(str(cP),PlD))"
      ],
      "execution_count": null,
      "outputs": [
        {
          "output_type": "stream",
          "name": "stdout",
          "text": [
            "P(l|D) = sum [ 0.000  0.000  0.039  0.222  0.624] = 0.886\n"
          ]
        }
      ]
    }
  ]
}
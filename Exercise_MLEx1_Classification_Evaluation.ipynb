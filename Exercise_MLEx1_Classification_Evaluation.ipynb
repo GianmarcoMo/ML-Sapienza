{
  "nbformat": 4,
  "nbformat_minor": 0,
  "metadata": {
    "colab": {
      "name": "Exercise - MLEx1.Classification_Evaluation",
      "provenance": [],
      "collapsed_sections": [
        "w8_6LSAHa6Vb",
        "rVA8XiMvbDBc",
        "QvbEt6KwfSVm",
        "66VfEN_m6lVJ",
        "a-aJYM3JXRyN"
      ],
      "toc_visible": true
    },
    "kernelspec": {
      "name": "python3",
      "display_name": "Python 3"
    }
  },
  "cells": [
    {
      "cell_type": "markdown",
      "metadata": {
        "id": "Z3GYzNWONtju"
      },
      "source": [
        "# Machine Learning - Exercise 1\n",
        "# Classification Evaluation\n",
        "\n",
        "This exercise illustrates examples of evaluation of solutions of classification problems."
      ]
    },
    {
      "cell_type": "markdown",
      "metadata": {
        "id": "eDEJU1RwoIlv"
      },
      "source": [
        "##Import \n",
        "\n",
        "Import libraries that contains the implementations of the functions used in the rest of the program.\n",
        "\n"
      ]
    },
    {
      "cell_type": "code",
      "metadata": {
        "id": "BSKuPnIXNoq2",
        "colab": {
          "base_uri": "https://localhost:8080/"
        },
        "outputId": "46c9702d-38f6-4b02-8f7a-6146faab29d1"
      },
      "source": [
        "import random\n",
        "import numpy as np\n",
        "import sklearn.metrics \n",
        "from sklearn import datasets\n",
        "from sklearn.model_selection import train_test_split, cross_val_score, ShuffleSplit, GridSearchCV\n",
        "from sklearn import svm\n",
        "from sklearn import tree\n",
        "from sklearn.naive_bayes import GaussianNB\n",
        "from sklearn.linear_model import LogisticRegression\n",
        "from sklearn.metrics import classification_report, confusion_matrix\n",
        "from sklearn.utils.multiclass import unique_labels\n",
        "import matplotlib.pyplot as plt\n",
        "\n",
        "def plot_confusion_matrix(y_true, y_pred, classes,\n",
        "                          normalize=False,\n",
        "                          title=None,\n",
        "                          cmap=plt.cm.Blues):\n",
        "    \"\"\"\n",
        "    This function prints and plots the confusion matrix.\n",
        "    Normalization can be applied by setting `normalize=True`.\n",
        "    \"\"\"\n",
        "    if not title:\n",
        "        if normalize:\n",
        "            title = 'Normalized confusion matrix'\n",
        "        else:\n",
        "            title = 'Confusion matrix, without normalization'\n",
        "\n",
        "    # Compute confusion matrix\n",
        "    cm = confusion_matrix(y_true, y_pred)\n",
        "    # Only use the labels that appear in the data\n",
        "    classes = classes[unique_labels(y_true, y_pred)]\n",
        "    if normalize:\n",
        "        cm = cm.astype('float') / cm.sum(axis=1)[:, np.newaxis]\n",
        "        #print(\"Normalized confusion matrix\")\n",
        "    else:\n",
        "        pass\n",
        "        #print('Confusion matrix, without normalization')\n",
        "\n",
        "    #print(cm)\n",
        "\n",
        "    fig, ax = plt.subplots()\n",
        "    im = ax.imshow(cm, interpolation='nearest', cmap=cmap)\n",
        "    ax.figure.colorbar(im, ax=ax)\n",
        "\n",
        "    ax.set(xticks=np.arange(cm.shape[1]),\n",
        "           yticks=np.arange(cm.shape[0]),\n",
        "           xticklabels=classes, yticklabels=classes,\n",
        "           title=title,\n",
        "           ylabel='True label',\n",
        "           xlabel='Predicted label')\n",
        "\n",
        "    ax.set_ylim(len(classes)-0.5, -0.5)\n",
        "\n",
        "    # Rotate the tick labels and set their alignment.\n",
        "    plt.setp(ax.get_xticklabels(), rotation=45, ha=\"right\",\n",
        "             rotation_mode=\"anchor\")\n",
        "\n",
        "    # Loop over data dimensions and create text annotations.\n",
        "    fmt = '.2f' if normalize else 'd'\n",
        "    thresh = cm.max() / 2.\n",
        "    for i in range(cm.shape[0]):\n",
        "        for j in range(cm.shape[1]):\n",
        "            ax.text(j, i, format(cm[i, j], fmt),\n",
        "                    ha=\"center\", va=\"center\",\n",
        "                    color=\"white\" if cm[i, j] > thresh else \"black\")\n",
        "    fig.tight_layout()\n",
        "    return ax\n",
        "\n",
        "print(\"Libraries imported.\")"
      ],
      "execution_count": null,
      "outputs": [
        {
          "output_type": "stream",
          "name": "stdout",
          "text": [
            "Libraries imported.\n"
          ]
        }
      ]
    },
    {
      "cell_type": "markdown",
      "metadata": {
        "id": "KaeLRpWIfO1m"
      },
      "source": [
        "## Load data\n",
        "\n",
        "Load training data.\n",
        "\n",
        "Choose one of the datasets described in the next subsections.\n",
        "\n",
        "More details on these datasets are available in https://scikit-learn.org/stable/datasets/index.html\n"
      ]
    },
    {
      "cell_type": "markdown",
      "metadata": {
        "id": "w8_6LSAHa6Vb"
      },
      "source": [
        "### IRIS dataset"
      ]
    },
    {
      "cell_type": "code",
      "metadata": {
        "id": "0nHa8mpWbAEp"
      },
      "source": [
        "DB = datasets.load_iris()\n",
        "dataset_name = \"Iris\"\n",
        "class_names = np.array([str(c) for c in DB.target_names])\n",
        "X_all = DB.data\n",
        "y_all = DB.target"
      ],
      "execution_count": null,
      "outputs": []
    },
    {
      "cell_type": "markdown",
      "metadata": {
        "id": "rVA8XiMvbDBc"
      },
      "source": [
        "### Wine dataset"
      ]
    },
    {
      "cell_type": "code",
      "metadata": {
        "id": "JkazgPcGbJhT"
      },
      "source": [
        "DB = datasets.load_wine()\n",
        "dataset_name = \"Wines\"\n",
        "class_names = np.array([str(c) for c in DB.target_names])\n",
        "X_all = DB.data\n",
        "y_all = DB.target"
      ],
      "execution_count": null,
      "outputs": []
    },
    {
      "cell_type": "markdown",
      "metadata": {
        "id": "6jVsMFO3bNji"
      },
      "source": [
        "###Digits dataset"
      ]
    },
    {
      "cell_type": "code",
      "metadata": {
        "id": "Virn0LFUbSVn"
      },
      "source": [
        "DB = datasets.load_digits()\n",
        "dataset_name = \"Digits\"\n",
        "class_names = np.array([str(c) for c in DB.target_names])\n",
        "X_all = DB.data\n",
        "y_all = DB.target"
      ],
      "execution_count": null,
      "outputs": []
    },
    {
      "cell_type": "markdown",
      "metadata": {
        "id": "QvbEt6KwfSVm"
      },
      "source": [
        "###Unbalanced Digits dataset\n",
        "\n",
        "Adapted from the Digits dataset with digit 0 mapped to class '0' and all other digits mapped to class '1'"
      ]
    },
    {
      "cell_type": "code",
      "metadata": {
        "id": "c4TpTJFTcOYM",
        "colab": {
          "base_uri": "https://localhost:8080/"
        },
        "outputId": "da0217f6-0bd2-4df4-fbc8-dd5b9cf19d2f"
      },
      "source": [
        "# Binary Digits unbalanced\n",
        "DB = datasets.load_digits()\n",
        "dataset_name = \"Digits_01_unbalanced\"\n",
        "class_names = np.array([\"0\",\"1\"])\n",
        "X_all = DB.data\n",
        "y_all = DB.target\n",
        "cont = 0\n",
        "for i in range(0,len(y_all)):\n",
        "  if y_all[i] != 0:\n",
        "    y_all[i] = 1\n",
        "    cont += 1\n",
        "print(\"Percentage of non-zero digits: %f\" %(cont/len(y_all)))"
      ],
      "execution_count": null,
      "outputs": [
        {
          "output_type": "stream",
          "name": "stdout",
          "text": [
            "Percentage of non-zero digits: 0.900946\n"
          ]
        }
      ]
    },
    {
      "cell_type": "markdown",
      "metadata": {
        "id": "w-FjcBe_bVSm"
      },
      "source": [
        "###Summary of the dataset\n",
        "\n",
        "Print some information about the dataset.\n",
        "\n",
        "Data structures\n",
        "\n",
        "    Input X: array ( n x m )\n",
        "    Output Y: array ( n x 1 )"
      ]
    },
    {
      "cell_type": "code",
      "metadata": {
        "id": "7kECuF5cgxxW",
        "colab": {
          "base_uri": "https://localhost:8080/"
        },
        "outputId": "ecafd071-1e88-4118-cc09-15435738f2a8"
      },
      "source": [
        "print(\"Dataset: %s\" %(dataset_name))\n",
        "print(\"Input shape: %s\" %str(X_all.shape))\n",
        "print(\"Output shape: %s\" %str(y_all.shape))\n",
        "print(\"Number of attributes/features: %d\" %(X_all.shape[1]))\n",
        "print(\"Number of classes: %d %s\" %(len(class_names), str(class_names)))\n",
        "print(\"Number of samples: %d\" %(X_all.shape[0]))"
      ],
      "execution_count": null,
      "outputs": [
        {
          "output_type": "stream",
          "name": "stdout",
          "text": [
            "Dataset: Digits\n",
            "Input shape: (1797, 64)\n",
            "Output shape: (1797,)\n",
            "Number of attributes/features: 64\n",
            "Number of classes: 10 ['0' '1' '2' '3' '4' '5' '6' '7' '8' '9']\n",
            "Number of samples: 1797\n"
          ]
        }
      ]
    },
    {
      "cell_type": "markdown",
      "metadata": {
        "id": "aJrwXXvsrEHn"
      },
      "source": [
        "### Show an example\n",
        "\n",
        "Display a random sample."
      ]
    },
    {
      "cell_type": "code",
      "metadata": {
        "id": "-m2VMd9YrSBS",
        "colab": {
          "base_uri": "https://localhost:8080/"
        },
        "outputId": "cc6f27fe-2009-498f-d095-20328e4901dc"
      },
      "source": [
        "id = random.randrange(0,X_all.shape[0])\n",
        "\n",
        "print(\"x%d = %r\" %(id,X_all[id]))\n",
        "print(\"y%d = %r ['%s']\" %(id,y_all[id],class_names[y_all[id]]))"
      ],
      "execution_count": null,
      "outputs": [
        {
          "output_type": "stream",
          "name": "stdout",
          "text": [
            "x1321 = array([ 0.,  0.,  0., 16., 11.,  0.,  0.,  0.,  0.,  0.,  6., 16., 10.,\n",
            "        0.,  0.,  0.,  0.,  0., 11., 11.,  0.,  0.,  0.,  0.,  0.,  0.,\n",
            "       12., 15., 11.,  5.,  0.,  0.,  0.,  0., 14., 15., 12., 15., 11.,\n",
            "        0.,  0.,  0., 12., 13.,  0.,  0., 16.,  5.,  0.,  0.,  6., 15.,\n",
            "        4., 11., 16.,  4.,  0.,  0.,  0., 13., 16., 14.,  9.,  0.])\n",
            "y1321 = 6 ['6']\n"
          ]
        }
      ]
    },
    {
      "cell_type": "markdown",
      "metadata": {
        "id": "eJ2bbJe8txnH"
      },
      "source": [
        "##Split data\n",
        "\n",
        "Split the data set in training set `X_train`, `y_train` and test set `X_test`, `y_test`, using `test_size` to denote percentage of samples in the test set.\n",
        "\n",
        "Note:\n",
        "`random_state` parameter is used as random seed. Change this value to generate a different split.\n",
        "\n",
        "IMPORTANT: solution will depend on this data split.\n"
      ]
    },
    {
      "cell_type": "code",
      "metadata": {
        "id": "IWKwFR-It1-D",
        "colab": {
          "base_uri": "https://localhost:8080/"
        },
        "outputId": "750fca56-96d5-4b8e-dcf0-eebe82386b9a"
      },
      "source": [
        "X_train, X_test, y_train, y_test = train_test_split(X_all, y_all, test_size=0.30, \n",
        "                                                    random_state=117)\n",
        "\n",
        "print(\"Size of training set: %d\" %X_train.shape[0])\n",
        "print(\"Size of test set: %d\" %X_test.shape[0])\n",
        "\n",
        "print('First training sample')\n",
        "id = 0\n",
        "print(\"    x_train_%d = %r\" %(id,X_train[id]))\n",
        "print(\"    y_train_%d = %r ['%s']\" %(id,y_train[id],class_names[y_train[id]]))\n",
        "\n",
        "print('First test sample')\n",
        "id = 0\n",
        "print(\"    x_test_%d = %r\" %(id,X_test[id]))\n",
        "print(\"    y_test_%d = %r ['%s']\" %(id,y_test[id],class_names[y_test[id]]))\n"
      ],
      "execution_count": null,
      "outputs": [
        {
          "output_type": "stream",
          "name": "stdout",
          "text": [
            "Size of training set: 1257\n",
            "Size of test set: 540\n",
            "First training sample\n",
            "    x_train_0 = array([ 0.,  0.,  0.,  0.,  6., 10.,  0.,  0.,  0.,  0.,  0.,  0., 14.,\n",
            "       15.,  0.,  0.,  0.,  0.,  0., 10., 16., 16.,  0.,  0.,  0.,  0.,\n",
            "        7., 16., 16., 15.,  0.,  0.,  0.,  3., 15.,  7., 15., 10.,  0.,\n",
            "        0.,  0.,  0.,  0.,  0., 13., 11.,  0.,  0.,  0.,  0.,  0.,  0.,\n",
            "       15.,  9.,  0.,  0.,  0.,  0.,  0.,  0.,  8., 15.,  0.,  0.])\n",
            "    y_train_0 = 1 ['1']\n",
            "First test sample\n",
            "    x_test_0 = array([ 0.,  0.,  0.,  8., 13.,  0.,  0.,  0.,  0.,  0.,  0., 14.,  6.,\n",
            "        0.,  0.,  0.,  0.,  0.,  6., 12.,  0.,  0.,  0.,  0.,  0.,  0.,\n",
            "        8., 13.,  8.,  2.,  0.,  0.,  0.,  0., 13., 16., 13., 14.,  4.,\n",
            "        0.,  0.,  0., 11.,  8.,  2.,  3., 13.,  0.,  0.,  0.,  7., 11.,\n",
            "        5., 12., 11.,  0.,  0.,  0.,  1., 11., 12.,  4.,  0.,  0.])\n",
            "    y_test_0 = 6 ['6']\n"
          ]
        }
      ]
    },
    {
      "cell_type": "markdown",
      "metadata": {
        "id": "R6DMvR8TzJiK"
      },
      "source": [
        "##Create a Model \n",
        "\n",
        "Define the model that will be used for learning.\n",
        "\n",
        "Create an instance of a class implementing a classification method.\n",
        "\n"
      ]
    },
    {
      "cell_type": "markdown",
      "metadata": {
        "id": "6wF3ZBlifcdK"
      },
      "source": [
        "**Decision Trees**\n",
        "\n",
        "https://scikit-learn.org/stable/modules/generated/sklearn.tree.DecisionTreeClassifier.html#sklearn.tree.DecisionTreeClassifier"
      ]
    },
    {
      "cell_type": "code",
      "metadata": {
        "id": "FQekMBE3fhWm"
      },
      "source": [
        "model = tree.DecisionTreeClassifier()"
      ],
      "execution_count": null,
      "outputs": []
    },
    {
      "cell_type": "markdown",
      "metadata": {
        "id": "y7dPHeFNH_mI"
      },
      "source": [
        "**Support Vector Machines**\n",
        "\n",
        "https://scikit-learn.org/stable/modules/generated/sklearn.svm.SVC.html?highlight=svm%20svc#sklearn.svm.SVC"
      ]
    },
    {
      "cell_type": "code",
      "metadata": {
        "id": "FDioTwgArEH7"
      },
      "source": [
        "model = svm.SVC(kernel='linear', C=1)\n"
      ],
      "execution_count": null,
      "outputs": []
    },
    {
      "cell_type": "markdown",
      "metadata": {
        "id": "T9EuWXAhGxw-"
      },
      "source": [
        "Probabilistic generative model \n",
        "\n",
        "**Gaussian Naive Bayes**\n",
        "\n",
        "https://scikit-learn.org/stable/modules/generated/sklearn.naive_bayes.GaussianNB.html?highlight=gaussiannb#sklearn.naive_bayes.GaussianNB\n"
      ]
    },
    {
      "cell_type": "code",
      "metadata": {
        "id": "Ul0R20-HGPjD"
      },
      "source": [
        "model = GaussianNB()\n"
      ],
      "execution_count": null,
      "outputs": []
    },
    {
      "cell_type": "markdown",
      "metadata": {
        "id": "21sijhYOHa0q"
      },
      "source": [
        "Probabilistic discriminative model\n",
        "\n",
        "**Logistic regression**\n",
        "\n",
        "https://scikit-learn.org/stable/modules/generated/sklearn.linear_model.LogisticRegression.html?highlight=logisticregression#sklearn.linear_model.LogisticRegression\n"
      ]
    },
    {
      "cell_type": "code",
      "metadata": {
        "id": "cFR5WkyKHzB4"
      },
      "source": [
        "model = LogisticRegression()"
      ],
      "execution_count": null,
      "outputs": []
    },
    {
      "cell_type": "markdown",
      "metadata": {
        "id": "YwWGEUP-gcEn"
      },
      "source": [
        "**(HOMEWORK)**\n",
        "**Different classification models to evaluate Digits dataset**"
      ]
    },
    {
      "cell_type": "code",
      "metadata": {
        "id": "eT1Djgn9gbhM"
      },
      "source": [
        "modelDecision = tree.DecisionTreeClassifier()\n",
        "modelSVC = svm.SVC(kernel='linear', C=1)\n",
        "modelGaussian = GaussianNB()\n",
        "modelLogistic = LogisticRegression()\n"
      ],
      "execution_count": null,
      "outputs": []
    },
    {
      "cell_type": "markdown",
      "metadata": {
        "id": "PmorfnRhHaw8"
      },
      "source": [
        "## Fit the model\n",
        "\n",
        "Finding a solution for this model given the data set.\n",
        "The solution is stored in the model object.\n"
      ]
    },
    {
      "cell_type": "code",
      "metadata": {
        "id": "vaBApsjDHxrY",
        "colab": {
          "base_uri": "https://localhost:8080/"
        },
        "outputId": "64d951a1-64b7-4fac-e10f-c098516c79ec"
      },
      "source": [
        "model.fit(X_train, y_train)"
      ],
      "execution_count": null,
      "outputs": [
        {
          "output_type": "execute_result",
          "data": {
            "text/plain": [
              "GaussianNB(priors=None, var_smoothing=1e-09)"
            ]
          },
          "metadata": {},
          "execution_count": 11
        }
      ]
    },
    {
      "cell_type": "markdown",
      "metadata": {
        "id": "075Bh-pOg8zf"
      },
      "source": [
        "**HOMEWORK - Fit all models**"
      ]
    },
    {
      "cell_type": "code",
      "metadata": {
        "id": "MVyJkzfqg8e6",
        "colab": {
          "base_uri": "https://localhost:8080/"
        },
        "outputId": "f4093cfe-10e7-4404-8491-74a0320b9e55"
      },
      "source": [
        "modelDecision.fit(X_train, y_train)\n",
        "modelSVC.fit(X_train, y_train)\n",
        "modelGaussian.fit(X_train, y_train)\n",
        "modelLogistic.fit(X_train, y_train)"
      ],
      "execution_count": null,
      "outputs": [
        {
          "output_type": "stream",
          "name": "stderr",
          "text": [
            "/usr/local/lib/python3.7/dist-packages/sklearn/linear_model/_logistic.py:940: ConvergenceWarning: lbfgs failed to converge (status=1):\n",
            "STOP: TOTAL NO. of ITERATIONS REACHED LIMIT.\n",
            "\n",
            "Increase the number of iterations (max_iter) or scale the data as shown in:\n",
            "    https://scikit-learn.org/stable/modules/preprocessing.html\n",
            "Please also refer to the documentation for alternative solver options:\n",
            "    https://scikit-learn.org/stable/modules/linear_model.html#logistic-regression\n",
            "  extra_warning_msg=_LOGISTIC_SOLVER_CONVERGENCE_MSG)\n"
          ]
        },
        {
          "output_type": "execute_result",
          "data": {
            "text/plain": [
              "LogisticRegression(C=1.0, class_weight=None, dual=False, fit_intercept=True,\n",
              "                   intercept_scaling=1, l1_ratio=None, max_iter=100,\n",
              "                   multi_class='auto', n_jobs=None, penalty='l2',\n",
              "                   random_state=None, solver='lbfgs', tol=0.0001, verbose=0,\n",
              "                   warm_start=False)"
            ]
          },
          "metadata": {},
          "execution_count": 7
        }
      ]
    },
    {
      "cell_type": "markdown",
      "metadata": {
        "id": "MEiAh78A24DZ"
      },
      "source": [
        "##Predict on test set\n",
        "\n",
        "Use test set for prediction."
      ]
    },
    {
      "cell_type": "code",
      "metadata": {
        "id": "ZsEXCZ0A20C8"
      },
      "source": [
        "y_pred = model.predict(X_test)"
      ],
      "execution_count": null,
      "outputs": []
    },
    {
      "cell_type": "markdown",
      "metadata": {
        "id": "825hsaiDgj2U"
      },
      "source": [
        "Use this statement to generate a prediction vector of all values '1' useful to test performance with the Unblanced Digits dataset.\n",
        "\n"
      ]
    },
    {
      "cell_type": "code",
      "metadata": {
        "id": "M8ogH5F_hDO9"
      },
      "source": [
        "# Result of model that predicts only 1 (for unblanced digits)\n",
        "y_pred = np.ones(len(X_test))"
      ],
      "execution_count": null,
      "outputs": []
    },
    {
      "cell_type": "markdown",
      "metadata": {
        "id": "WHdaEYochJoI"
      },
      "source": [
        "**HOMEWORK - predict on test set**"
      ]
    },
    {
      "cell_type": "code",
      "metadata": {
        "id": "qXcaFKJUhMd2"
      },
      "source": [
        "y_predDecision = modelDecision.predict(X_test)\n",
        "y_predSVC = modelSVC.predict(X_test)\n",
        "y_predGaussian = modelGaussian.predict(X_test)\n",
        "y_predLogistic = modelLogistic.predict(X_test)"
      ],
      "execution_count": null,
      "outputs": []
    },
    {
      "cell_type": "markdown",
      "metadata": {
        "id": "LfDeJb0Juofu"
      },
      "source": [
        "##Evaluate the Model\n",
        "\n",
        "Evaluation of a specific solution on the test set, comparing predicted values `y_pred` with test values `y_test`."
      ]
    },
    {
      "cell_type": "markdown",
      "metadata": {
        "id": "NKD7632rv-xZ"
      },
      "source": [
        "### Accuracy"
      ]
    },
    {
      "cell_type": "code",
      "metadata": {
        "id": "P0N3cUSazRcJ",
        "colab": {
          "base_uri": "https://localhost:8080/"
        },
        "outputId": "6a81f6f4-52d8-4ef0-fd39-58fdafacdbbb"
      },
      "source": [
        "acc = model.score(X_test, y_test)    \n",
        "print(\"Accuracy %.3f\" %acc)"
      ],
      "execution_count": null,
      "outputs": [
        {
          "output_type": "stream",
          "name": "stdout",
          "text": [
            "Accuracy 0.963\n"
          ]
        }
      ]
    },
    {
      "cell_type": "markdown",
      "metadata": {
        "id": "-3H23JahhwFW"
      },
      "source": [
        "**HOMEWORK - accuracy for all models**"
      ]
    },
    {
      "cell_type": "code",
      "metadata": {
        "id": "eGlE8J3Vh0Jt",
        "colab": {
          "base_uri": "https://localhost:8080/"
        },
        "outputId": "c7bdf628-e819-4cdf-c6ab-097c36b1f4bf"
      },
      "source": [
        "accDecision = modelDecision.score(X_test, y_test)  \n",
        "accSVC = modelSVC.score(X_test, y_test)  \n",
        "accGaussian = modelGaussian.score(X_test, y_test)  \n",
        "accLogistic = modelLogistic.score(X_test, y_test)\n",
        "\n",
        "print(\"Accuracy Decision %.3f\" %accDecision) \n",
        "print(\"Accuracy SVC %.3f\" %accSVC) \n",
        "print(\"Accuracy Gaussian %.3f\" %accGaussian) \n",
        "print(\"Accuracy Logistic %.3f\" %accLogistic) "
      ],
      "execution_count": null,
      "outputs": [
        {
          "output_type": "stream",
          "name": "stdout",
          "text": [
            "Accuracy Decision 0.848\n",
            "Accuracy SVC 0.978\n",
            "Accuracy Gaussian 0.804\n",
            "Accuracy Logistic 0.950\n"
          ]
        }
      ]
    },
    {
      "cell_type": "markdown",
      "metadata": {
        "id": "4zY5aEGWwMj1"
      },
      "source": [
        "###Precision & Recall\n",
        "\n",
        "Classification report contains more accurate performance information."
      ]
    },
    {
      "cell_type": "code",
      "metadata": {
        "id": "G2bdFwMhwLJN",
        "colab": {
          "base_uri": "https://localhost:8080/"
        },
        "outputId": "7a4353dc-8b19-40bc-d028-cff797dc9a8e"
      },
      "source": [
        "print(classification_report(y_test, y_pred, labels=None, target_names=class_names, digits=3))\n"
      ],
      "execution_count": null,
      "outputs": [
        {
          "output_type": "stream",
          "name": "stdout",
          "text": [
            "              precision    recall  f1-score   support\n",
            "\n",
            "     class_0      1.000     0.889     0.941        18\n",
            "     class_1      0.913     1.000     0.955        21\n",
            "     class_2      1.000     1.000     1.000        15\n",
            "\n",
            "    accuracy                          0.963        54\n",
            "   macro avg      0.971     0.963     0.965        54\n",
            "weighted avg      0.966     0.963     0.963        54\n",
            "\n"
          ]
        }
      ]
    },
    {
      "cell_type": "markdown",
      "metadata": {
        "id": "ERAcJ0qSPu-1"
      },
      "source": [
        "**HOMEWORK - precision recall** \n"
      ]
    },
    {
      "cell_type": "code",
      "metadata": {
        "colab": {
          "base_uri": "https://localhost:8080/"
        },
        "id": "3XuuhE_ZPyrA",
        "outputId": "71ba3f9c-eee7-4a79-f0ee-338a6f86d7b3"
      },
      "source": [
        "print('PRECISION RECALL Decision')\n",
        "print(classification_report(y_test, y_predDecision, labels=None, target_names=class_names, digits=3))\n",
        "\n",
        "print('PRECISION RECALL SVC')\n",
        "print(classification_report(y_test, y_predSVC, labels=None, target_names=class_names, digits=3))\n",
        "\n",
        "print('PRECISION RECALL Gaussian')\n",
        "print(classification_report(y_test, y_predGaussian, labels=None, target_names=class_names, digits=3))\n",
        "\n",
        "print('PRECISION RECALL Logistic')\n",
        "print(classification_report(y_test, y_predLogistic, labels=None, target_names=class_names, digits=3))"
      ],
      "execution_count": null,
      "outputs": [
        {
          "output_type": "stream",
          "name": "stdout",
          "text": [
            "PRECISION RECALL Decision\n",
            "              precision    recall  f1-score   support\n",
            "\n",
            "           0      0.954     0.969     0.961        64\n",
            "           1      0.750     0.840     0.792        50\n",
            "           2      0.811     0.796     0.804        54\n",
            "           3      0.750     0.818     0.783        55\n",
            "           4      0.900     0.766     0.828        47\n",
            "           5      0.961     0.845     0.899        58\n",
            "           6      0.927     0.879     0.903        58\n",
            "           7      0.945     0.929     0.937        56\n",
            "           8      0.725     0.822     0.771        45\n",
            "           9      0.759     0.774     0.766        53\n",
            "\n",
            "    accuracy                          0.848       540\n",
            "   macro avg      0.848     0.844     0.844       540\n",
            "weighted avg      0.854     0.848     0.850       540\n",
            "\n",
            "PRECISION RECALL SVC\n",
            "              precision    recall  f1-score   support\n",
            "\n",
            "           0      1.000     1.000     1.000        64\n",
            "           1      0.942     0.980     0.961        50\n",
            "           2      1.000     1.000     1.000        54\n",
            "           3      1.000     0.964     0.981        55\n",
            "           4      0.979     1.000     0.989        47\n",
            "           5      0.950     0.983     0.966        58\n",
            "           6      1.000     0.983     0.991        58\n",
            "           7      0.982     1.000     0.991        56\n",
            "           8      0.932     0.911     0.921        45\n",
            "           9      0.980     0.943     0.962        53\n",
            "\n",
            "    accuracy                          0.978       540\n",
            "   macro avg      0.977     0.976     0.976       540\n",
            "weighted avg      0.978     0.978     0.978       540\n",
            "\n",
            "PRECISION RECALL Gaussian\n",
            "              precision    recall  f1-score   support\n",
            "\n",
            "           0      1.000     1.000     1.000        64\n",
            "           1      0.592     0.900     0.714        50\n",
            "           2      0.879     0.537     0.667        54\n",
            "           3      0.949     0.673     0.787        55\n",
            "           4      1.000     0.702     0.825        47\n",
            "           5      0.912     0.897     0.904        58\n",
            "           6      0.949     0.966     0.957        58\n",
            "           7      0.775     0.982     0.866        56\n",
            "           8      0.394     0.622     0.483        45\n",
            "           9      0.946     0.660     0.778        53\n",
            "\n",
            "    accuracy                          0.804       540\n",
            "   macro avg      0.840     0.794     0.798       540\n",
            "weighted avg      0.851     0.804     0.810       540\n",
            "\n",
            "PRECISION RECALL Logistic\n",
            "              precision    recall  f1-score   support\n",
            "\n",
            "           0      0.985     1.000     0.992        64\n",
            "           1      0.887     0.940     0.913        50\n",
            "           2      1.000     0.963     0.981        54\n",
            "           3      0.927     0.927     0.927        55\n",
            "           4      0.959     1.000     0.979        47\n",
            "           5      0.932     0.948     0.940        58\n",
            "           6      0.964     0.914     0.938        58\n",
            "           7      1.000     0.982     0.991        56\n",
            "           8      0.833     0.889     0.860        45\n",
            "           9      1.000     0.925     0.961        53\n",
            "\n",
            "    accuracy                          0.950       540\n",
            "   macro avg      0.949     0.949     0.948       540\n",
            "weighted avg      0.952     0.950     0.950       540\n",
            "\n"
          ]
        }
      ]
    },
    {
      "cell_type": "markdown",
      "metadata": {
        "id": "q1EwWO9m3bGg"
      },
      "source": [
        "### Confusion Matrix\n",
        "\n",
        "Shows the results in a graphical form."
      ]
    },
    {
      "cell_type": "markdown",
      "metadata": {
        "id": "IGOYxPNzy3vy"
      },
      "source": [
        "cm = confusion_matrix(y_test, y_pred, labels=None, sample_weight=None)\n",
        "print(cm)\n",
        "plot_confusion_matrix(y_test, y_pred, classes=class_names, normalize=False)"
      ]
    },
    {
      "cell_type": "code",
      "metadata": {
        "colab": {
          "base_uri": "https://localhost:8080/",
          "height": 366
        },
        "id": "3cqPlcX-e_Xn",
        "outputId": "568024d8-b356-4d40-92b3-de8d704c7808"
      },
      "source": [
        "cm = confusion_matrix(y_test, y_pred, labels=None, sample_weight=None)\n",
        "print(cm)\n",
        "plot_confusion_matrix(y_test, y_pred, classes=class_names, normalize=False)"
      ],
      "execution_count": null,
      "outputs": [
        {
          "output_type": "stream",
          "name": "stdout",
          "text": [
            "[[16  2  0]\n",
            " [ 0 21  0]\n",
            " [ 0  0 15]]\n"
          ]
        },
        {
          "output_type": "execute_result",
          "data": {
            "text/plain": [
              "<matplotlib.axes._subplots.AxesSubplot at 0x7efd2ff7c390>"
            ]
          },
          "metadata": {},
          "execution_count": 15
        },
        {
          "output_type": "display_data",
          "data": {
            "image/png": "[encoded data removed]",
            "text/plain": [
              "<Figure size 432x288 with 2 Axes>"
            ]
          },
          "metadata": {
            "needs_background": "light"
          }
        }
      ]
    },
    {
      "cell_type": "markdown",
      "metadata": {
        "id": "xFH2OgGotJ76"
      },
      "source": [
        "## Evaluate a specific instance of a method\n",
        "\n",
        "Evaluation of a specific method with instantiated hyper-parameters\n",
        "through Cross Validation\n",
        "\n"
      ]
    },
    {
      "cell_type": "code",
      "metadata": {
        "id": "IrxPaAovtV3z",
        "colab": {
          "base_uri": "https://localhost:8080/"
        },
        "outputId": "f12c5445-5b50-4b97-f223-cb1f824ef921"
      },
      "source": [
        "#K-Fold Cross Validation \n",
        "cv = ShuffleSplit(n_splits=5, test_size=0.333, random_state=15)\n",
        "scores = cross_val_score(model, X_all, y_all, cv=cv)\n",
        "print(scores)\n",
        "print(\"Accuracy: %0.3f (+/- %0.2f)\" % (scores.mean(), scores.std() * 2))"
      ],
      "execution_count": null,
      "outputs": [
        {
          "output_type": "stream",
          "name": "stdout",
          "text": [
            "[0.98333333 0.95       0.93333333 0.98333333 0.98333333]\n",
            "Accuracy: 0.967 (+/- 0.04)\n"
          ]
        }
      ]
    },
    {
      "cell_type": "markdown",
      "metadata": {
        "id": "0hVbM8WLrXMh"
      },
      "source": [
        "## Prediction of a new sample"
      ]
    },
    {
      "cell_type": "code",
      "metadata": {
        "id": "rIFijWnPrc2L",
        "colab": {
          "base_uri": "https://localhost:8080/"
        },
        "outputId": "d073f04c-f51c-4b54-8c37-834987ed00f9"
      },
      "source": [
        "if dataset_name == \"Iris\":\n",
        "  xnew = np.array([8.5, 2.6, 9.2, 0.3])\n",
        "elif dataset_name == \"Wines\":\n",
        "  xnew = np.array([12, 2.5, 2.6, 15, 186, 1.5, 9.1,\n",
        "                   0.44, 2.2, 5.6, 2.9, 3.7, 380])\n",
        "elif dataset_name == \"Digits\" or dataset_name == \"Digits_01_unbalanced\":\n",
        "   xnew = np.array([  \n",
        "        0,  0,  8, 13, 18, 13, 11,  1,  0, 10,  9,  4,  6,\n",
        "       16,  3,  0,  0,  0,  0, 10,  1, 13,  0,  0,  0,  0,\n",
        "        0,  7, 14,  2,  0,  0,  0,  0,  0,  7, 13,  1,  0,\n",
        "        0,  0,  0,  0,  0,  8, 13,  1,  0,  0,  0,  0,  0,\n",
        "       13,  6,  7,  1,  0,  0, 14, 12, 13,  1,  0,  0])\n",
        " \n",
        "xnew = xnew.reshape(1,-1)\n",
        " \n",
        "print(\"x_new = %r\" %(xnew))\n",
        "ynew = model.predict(xnew)\n",
        "print(\"y_pred = %d %s\" %(ynew,class_names[ynew]))\n",
        "\n",
        "# only for probabilistic models\n",
        "try:\n",
        "  mconf = np.max(model.predict_proba(xnew))\n",
        "  print(\"Confidence: %.2f\" %(mconf))\n",
        "except:\n",
        "  pass  "
      ],
      "execution_count": null,
      "outputs": [
        {
          "output_type": "stream",
          "name": "stdout",
          "text": [
            "x_new = array([[ 12.  ,   2.5 ,   2.6 ,  15.  , 186.  ,   1.5 ,   9.1 ,   0.44,\n",
            "          2.2 ,   5.6 ,   2.9 ,   3.7 , 380.  ]])\n",
            "y_pred = 1 ['class_1']\n",
            "Confidence: 1.00\n"
          ]
        }
      ]
    },
    {
      "cell_type": "markdown",
      "metadata": {
        "id": "66VfEN_m6lVJ"
      },
      "source": [
        "##Common Mistake\n",
        "\n",
        "Evaluate solution on data used for training!!!\n"
      ]
    },
    {
      "cell_type": "code",
      "metadata": {
        "id": "R1PgiDeh6j4m",
        "colab": {
          "base_uri": "https://localhost:8080/"
        },
        "outputId": "28a6a9c5-1d98-4246-c923-9641fd55f1cb"
      },
      "source": [
        "model.score(X_all,y_all)"
      ],
      "execution_count": null,
      "outputs": [
        {
          "output_type": "execute_result",
          "data": {
            "text/plain": [
              "0.9831460674157303"
            ]
          },
          "metadata": {},
          "execution_count": 18
        }
      ]
    },
    {
      "cell_type": "markdown",
      "metadata": {
        "id": "a-aJYM3JXRyN"
      },
      "source": [
        "## Home Exercises\n",
        "\n",
        "**Question 1**\n",
        "\n",
        "Design an evaluation procedure to assess and compare the different performance of the classifcation models seen above on the Digits dataset\n",
        "\n",
        "**Question 2** \n",
        "\n",
        "Consider the Unbalanced Digits dataset and compare one of the above classification method with the classifier that always returns the most common label in the dataset. Which performance metrics are significant in this comparison?\n",
        "\n",
        "\n",
        "  \n"
      ]
    }
  ]
}